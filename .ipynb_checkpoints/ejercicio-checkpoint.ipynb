{
 "cells": [
  {
   "cell_type": "code",
   "execution_count": 1,
   "id": "84d82199-9e65-41f2-9ca1-cd40df841cc3",
   "metadata": {},
   "outputs": [
    {
     "name": "stdout",
     "output_type": "stream",
     "text": [
      "estoy en jupyter\n"
     ]
    }
   ],
   "source": [
    "print(\"estoy en jupyter\")"
   ]
  },
  {
   "cell_type": "code",
   "execution_count": null,
   "id": "22bba267-25ec-432c-8d39-c01d93d98d26",
   "metadata": {},
   "outputs": [],
   "source": []
  }
 ],
 "metadata": {
  "kernelspec": {
   "display_name": "Python 3 (ipykernel)",
   "language": "python",
   "name": "python3"
  },
  "language_info": {
   "codemirror_mode": {
    "name": "ipython",
    "version": 3
   },
   "file_extension": ".py",
   "mimetype": "text/x-python",
   "name": "python",
   "nbconvert_exporter": "python",
   "pygments_lexer": "ipython3",
   "version": "3.10.18"
  }
 },
 "nbformat": 4,
 "nbformat_minor": 5
}
